{
 "cells": [
  {
   "cell_type": "code",
   "execution_count": 2,
   "id": "651ae246-8488-478c-9eb3-31982e166fd0",
   "metadata": {},
   "outputs": [
    {
     "name": "stdout",
     "output_type": "stream",
     "text": [
      "\n",
      "📋 [메뉴판]\n",
      "1. 아메리카노 - 3000원\n",
      "2. 카페라떼 - 3500원\n",
      "3. 바닐라라떼 - 4000원\n",
      "4. 초코라떼 - 4000원\n",
      "\n"
     ]
    },
    {
     "name": "stdin",
     "output_type": "stream",
     "text": [
      "주문할 메뉴 번호를 입력하세요 (종료는 'q'):  1\n",
      "아메리카노 수량 입력:  2\n"
     ]
    },
    {
     "name": "stdout",
     "output_type": "stream",
     "text": [
      "✅ 아메리카노 2개가 추가되었습니다.\n",
      "\n",
      "\n",
      "📋 [메뉴판]\n",
      "1. 아메리카노 - 3000원\n",
      "2. 카페라떼 - 3500원\n",
      "3. 바닐라라떼 - 4000원\n",
      "4. 초코라떼 - 4000원\n",
      "\n"
     ]
    },
    {
     "name": "stdin",
     "output_type": "stream",
     "text": [
      "주문할 메뉴 번호를 입력하세요 (종료는 'q'):  2\n",
      "카페라떼 수량 입력:  2\n"
     ]
    },
    {
     "name": "stdout",
     "output_type": "stream",
     "text": [
      "✅ 카페라떼 2개가 추가되었습니다.\n",
      "\n",
      "\n",
      "📋 [메뉴판]\n",
      "1. 아메리카노 - 3000원\n",
      "2. 카페라떼 - 3500원\n",
      "3. 바닐라라떼 - 4000원\n",
      "4. 초코라떼 - 4000원\n",
      "\n"
     ]
    },
    {
     "name": "stdin",
     "output_type": "stream",
     "text": [
      "주문할 메뉴 번호를 입력하세요 (종료는 'q'):  3\n",
      "바닐라라떼 수량 입력:  1\n"
     ]
    },
    {
     "name": "stdout",
     "output_type": "stream",
     "text": [
      "✅ 바닐라라떼 1개가 추가되었습니다.\n",
      "\n",
      "\n",
      "📋 [메뉴판]\n",
      "1. 아메리카노 - 3000원\n",
      "2. 카페라떼 - 3500원\n",
      "3. 바닐라라떼 - 4000원\n",
      "4. 초코라떼 - 4000원\n",
      "\n"
     ]
    },
    {
     "name": "stdin",
     "output_type": "stream",
     "text": [
      "주문할 메뉴 번호를 입력하세요 (종료는 'q'):  4\n",
      "초코라떼 수량 입력:  2\n"
     ]
    },
    {
     "name": "stdout",
     "output_type": "stream",
     "text": [
      "✅ 초코라떼 2개가 추가되었습니다.\n",
      "\n",
      "\n",
      "📋 [메뉴판]\n",
      "1. 아메리카노 - 3000원\n",
      "2. 카페라떼 - 3500원\n",
      "3. 바닐라라떼 - 4000원\n",
      "4. 초코라떼 - 4000원\n",
      "\n"
     ]
    },
    {
     "name": "stdin",
     "output_type": "stream",
     "text": [
      "주문할 메뉴 번호를 입력하세요 (종료는 'q'):  q\n"
     ]
    },
    {
     "name": "stdout",
     "output_type": "stream",
     "text": [
      "\n",
      "💰 총 결제 금액: 25000원\n"
     ]
    },
    {
     "name": "stdin",
     "output_type": "stream",
     "text": [
      "결제 수단을 선택하세요 (1: cash, 2: card):  2\n"
     ]
    },
    {
     "name": "stdout",
     "output_type": "stream",
     "text": [
      "💳 IC칩 방향에 맞게 카드를 꽂아주세요.\n",
      "\n",
      "\n",
      "🧾 [주문서]\n",
      "아메리카노 x 2 = 6000원\n",
      "카페라떼 x 2 = 7000원\n",
      "바닐라라떼 x 1 = 4000원\n",
      "초코라떼 x 2 = 8000원\n",
      "총합계: 25000원\n",
      "✅ 주문이 완료되었습니다. 감사합니다!\n",
      "\n"
     ]
    }
   ],
   "source": [
    "class Kiosk:\n",
    "    def __init__(self):\n",
    "        # 메뉴와 가격\n",
    "        self.menu = {\n",
    "            \"아메리카노\": 3000,\n",
    "            \"카페라떼\": 3500,\n",
    "            \"바닐라라떼\": 4000,\n",
    "            \"초코라떼\": 4000\n",
    "        }\n",
    "        self.order = {}  # 주문 내역 저장\n",
    "        self.total = 0   # 총 결제금액 저장\n",
    "\n",
    "    # 메뉴 출력\n",
    "    def menu_print(self):\n",
    "        print(\"\\n📋 [메뉴판]\")\n",
    "        for idx, (item, price) in enumerate(self.menu.items(), start=1):\n",
    "            print(f\"{idx}. {item} - {price}원\")\n",
    "        print()\n",
    "\n",
    "    # 주문 선택\n",
    "    def menu_select(self):\n",
    "        while True:\n",
    "            self.menu_print()\n",
    "            choice = input(\"주문할 메뉴 번호를 입력하세요 (종료는 'q'): \")\n",
    "            if choice.lower() == 'q':\n",
    "                break\n",
    "            try:\n",
    "                choice = int(choice)\n",
    "                if not (1 <= choice <= len(self.menu)):\n",
    "                    print(\"⚠️ 유효한 메뉴 번호를 입력해주세요.\\n\")\n",
    "                    continue\n",
    "                item = list(self.menu.keys())[choice - 1]\n",
    "                qty = int(input(f\"{item} 수량 입력: \"))\n",
    "                if qty < 1:\n",
    "                    print(\"⚠️ 수량은 1 이상이어야 합니다.\\n\")\n",
    "                    continue\n",
    "                self.order[item] = self.order.get(item, 0) + qty\n",
    "                print(f\"✅ {item} {qty}개가 추가되었습니다.\\n\")\n",
    "            except ValueError:\n",
    "                print(\"⚠️ 숫자를 입력하거나 'q'로 종료해주세요.\\n\")\n",
    "\n",
    "    # 결제 처리\n",
    "    def pay(self):\n",
    "        self.total = sum(self.menu[item] * qty for item, qty in self.order.items())\n",
    "        print(f\"\\n💰 총 결제 금액: {self.total}원\")\n",
    "\n",
    "        while True:\n",
    "            payment_method = input(\"결제 수단을 선택하세요 (1: cash, 2: card): \").lower()\n",
    "            if payment_method in ['1', 'cash']:\n",
    "                print(\"📢 직원을 호출하겠습니다. 잠시만 기다려 주세요.\\n\")\n",
    "                break\n",
    "            elif payment_method in ['2', 'card']:\n",
    "                print(\"💳 IC칩 방향에 맞게 카드를 꽂아주세요.\\n\")\n",
    "                break\n",
    "            else:\n",
    "                print(\"⚠️ '1'(cash) 또는 '2'(card)를 입력해주세요.\")\n",
    "\n",
    "    # 주문서 출력\n",
    "    def table(self):\n",
    "        print(\"\\n🧾 [주문서]\")\n",
    "        for item, qty in self.order.items():\n",
    "            print(f\"{item} x {qty} = {self.menu[item] * qty}원\")\n",
    "        print(f\"총합계: {self.total}원\")\n",
    "        print(\"✅ 주문이 완료되었습니다. 감사합니다!\\n\")\n",
    "\n",
    "\n",
    "# 실행 예제\n",
    "if __name__ == \"__main__\":\n",
    "    kiosk = Kiosk()\n",
    "    kiosk.menu_select()\n",
    "    if kiosk.order:\n",
    "        kiosk.pay()\n",
    "        kiosk.table()\n",
    "    else:\n",
    "        print(\"🚫 주문이 취소되었습니다.\")\n"
   ]
  },
  {
   "cell_type": "code",
   "execution_count": null,
   "id": "5dd0ce4c-2092-4a67-a6fa-3baed4919531",
   "metadata": {},
   "outputs": [],
   "source": []
  }
 ],
 "metadata": {
  "kernelspec": {
   "display_name": "Python 3 (ipykernel)",
   "language": "python",
   "name": "python3"
  },
  "language_info": {
   "codemirror_mode": {
    "name": "ipython",
    "version": 3
   },
   "file_extension": ".py",
   "mimetype": "text/x-python",
   "name": "python",
   "nbconvert_exporter": "python",
   "pygments_lexer": "ipython3",
   "version": "3.13.5"
  }
 },
 "nbformat": 4,
 "nbformat_minor": 5
}
